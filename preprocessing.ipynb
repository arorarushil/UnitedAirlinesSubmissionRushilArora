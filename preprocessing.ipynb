{
  "nbformat": 4,
  "nbformat_minor": 0,
  "metadata": {
    "colab": {
      "provenance": []
    },
    "kernelspec": {
      "name": "python3",
      "display_name": "Python 3"
    },
    "language_info": {
      "name": "python"
    }
  },
  "cells": [
    {
      "cell_type": "markdown",
      "source": [
        "**TABLE 1**"
      ],
      "metadata": {
        "id": "8H3ixsMx4-0E"
      }
    },
    {
      "cell_type": "code",
      "execution_count": 23,
      "metadata": {
        "id": "-Z8oyjT9f5gN"
      },
      "outputs": [],
      "source": [
        "import pandas as pd"
      ]
    },
    {
      "cell_type": "code",
      "source": [
        "df = pd.read_csv('/content/case/Survey data_Inflight Satisfaction Score.csv')"
      ],
      "metadata": {
        "id": "2102W6DAhhRX"
      },
      "execution_count": 24,
      "outputs": []
    },
    {
      "cell_type": "code",
      "source": [
        "print(df.head())"
      ],
      "metadata": {
        "colab": {
          "base_uri": "https://localhost:8080/"
        },
        "id": "ZAnIJ3nShpPz",
        "outputId": "44d8c319-ec0e-4b7d-a4c1-1b7f79a9523b"
      },
      "execution_count": 25,
      "outputs": [
        {
          "output_type": "stream",
          "name": "stdout",
          "text": [
            "   flight_number origin_station_code destination_station_code record_locator  \\\n",
            "0           3802                 MKX                      ORX         CYXXJJ   \n",
            "1           4645                 COX                      DEX         DRXXMH   \n",
            "2           5236                 COX                      DEX         DEXXS1   \n",
            "3           4686                 DEX                      COX         PXXXLH   \n",
            "4            671                 DEX                      COX         KZXXH5   \n",
            "\n",
            "  scheduled_departure_date                                      question_text  \\\n",
            "0                 9/1/2022  How satisfied were you with the food & beverag...   \n",
            "1                 9/1/2022  How satisfied were you with the food & beverag...   \n",
            "2                 9/1/2022  How satisfied were you with the food & beverag...   \n",
            "3                 9/1/2022  How satisfied were you with the food & beverag...   \n",
            "4                 9/1/2022  How satisfied were you with the food & beverag...   \n",
            "\n",
            "  score satisfaction_type driver_sub_group1               driver_sub_group2  \\\n",
            "0     2      Dissatisfied   food & beverage  food and beverage satisfaction   \n",
            "1     5         Satisfied   food & beverage  food and beverage satisfaction   \n",
            "2     5         Satisfied   food & beverage  food and beverage satisfaction   \n",
            "3     3      Dissatisfied   food & beverage  food and beverage satisfaction   \n",
            "4     5         Satisfied   food & beverage  food and beverage satisfaction   \n",
            "\n",
            "   ...  ua_uax actual_flown_miles haul_type departure_gate arrival_gate  \\\n",
            "0  ...     UAX                 67     Short            C12          F10   \n",
            "1  ...     UAX                 72     Short              5          B60   \n",
            "2  ...     UAX                 72     Short              7          A71   \n",
            "3  ...     UAX                 72     Short            B82            5   \n",
            "4  ...      UA                 72     Short            B24            3   \n",
            "\n",
            "   international_domestic_indicator response_group media_provider  \\\n",
            "0                          Domestic     non-member            NaN   \n",
            "1                          Domestic         member           GOGO   \n",
            "2                          Domestic         member           GOGO   \n",
            "3                          Domestic         member            NaN   \n",
            "4                          Domestic         member      PANASONIC   \n",
            "\n",
            "         hub_spoke     cabin  \n",
            "0  spoke departure   Economy  \n",
            "1  spoke departure  Business  \n",
            "2  spoke departure  Business  \n",
            "3    hub departure   Economy  \n",
            "4    hub departure  Business  \n",
            "\n",
            "[5 rows x 32 columns]\n"
          ]
        }
      ]
    },
    {
      "cell_type": "code",
      "source": [
        "question_counts = df['question_text'].value_counts()"
      ],
      "metadata": {
        "id": "4GglsSd1hunX"
      },
      "execution_count": 26,
      "outputs": []
    },
    {
      "cell_type": "code",
      "source": [
        "print(question_counts)"
      ],
      "metadata": {
        "colab": {
          "base_uri": "https://localhost:8080/"
        },
        "id": "pnGMSM1Bh7PB",
        "outputId": "b31a6031-7c0d-4657-c4ee-e77120be41c0"
      },
      "execution_count": 27,
      "outputs": [
        {
          "output_type": "stream",
          "name": "stdout",
          "text": [
            "How satisfied were you with the food & beverage served on your flight from [CITY] to [CITY]?    34963\n",
            "What item did you choose?                                                                       12111\n",
            "Name: question_text, dtype: int64\n"
          ]
        }
      ]
    },
    {
      "cell_type": "code",
      "source": [
        "df.dropna(subset=['satisfaction_type'], inplace=True)"
      ],
      "metadata": {
        "id": "TiRbMznzh_H5"
      },
      "execution_count": 28,
      "outputs": []
    },
    {
      "cell_type": "code",
      "source": [
        "def combine_cabin(row):\n",
        "    if row['cabin_code_desc'] == 'Business':\n",
        "        return 'Business'\n",
        "    if row['cabin_code_desc'] == 'United Premium Plus':\n",
        "        return 'United Premium Plus'\n",
        "    elif row['cabin_code_desc'] == 'Economy':\n",
        "        if row['cabin_name'] == 'Economy Plus':\n",
        "            return 'Economy Plus'\n",
        "        elif row['cabin_name'] == 'Economy':\n",
        "            return 'Economy'\n",
        "    return None\n",
        "\n",
        "df['cabin'] = df.apply(combine_cabin, axis=1)"
      ],
      "metadata": {
        "id": "-g-0s_IjoVmk"
      },
      "execution_count": 29,
      "outputs": []
    },
    {
      "cell_type": "code",
      "source": [
        "print(df.head(10))"
      ],
      "metadata": {
        "colab": {
          "base_uri": "https://localhost:8080/"
        },
        "id": "fAydETDVqdwp",
        "outputId": "85ee09f7-059e-45cd-fb84-dbfbf653b723"
      },
      "execution_count": 30,
      "outputs": [
        {
          "output_type": "stream",
          "name": "stdout",
          "text": [
            "   flight_number origin_station_code destination_station_code record_locator  \\\n",
            "0           3802                 MKX                      ORX         CYXXJJ   \n",
            "1           4645                 COX                      DEX         DRXXMH   \n",
            "2           5236                 COX                      DEX         DEXXS1   \n",
            "3           4686                 DEX                      COX         PXXXLH   \n",
            "4            671                 DEX                      COX         KZXXH5   \n",
            "5           3947                 IAX                      CHX         HQXXL6   \n",
            "6           3609                 EWX                      PHX         DPXXGS   \n",
            "7           4797                 LAX                      SBX         EBXX0S   \n",
            "8           5099                 LAX                      DEX         CDXXLV   \n",
            "9           4635                 ASX                      DEX         BNXXXJ   \n",
            "\n",
            "  scheduled_departure_date                                      question_text  \\\n",
            "0                 9/1/2022  How satisfied were you with the food & beverag...   \n",
            "1                 9/1/2022  How satisfied were you with the food & beverag...   \n",
            "2                 9/1/2022  How satisfied were you with the food & beverag...   \n",
            "3                 9/1/2022  How satisfied were you with the food & beverag...   \n",
            "4                 9/1/2022  How satisfied were you with the food & beverag...   \n",
            "5                 9/1/2022  How satisfied were you with the food & beverag...   \n",
            "6                 9/1/2022  How satisfied were you with the food & beverag...   \n",
            "7                 9/1/2022  How satisfied were you with the food & beverag...   \n",
            "8                 9/1/2022  How satisfied were you with the food & beverag...   \n",
            "9                 9/1/2022  How satisfied were you with the food & beverag...   \n",
            "\n",
            "  score satisfaction_type driver_sub_group1               driver_sub_group2  \\\n",
            "0     2      Dissatisfied   food & beverage  food and beverage satisfaction   \n",
            "1     5         Satisfied   food & beverage  food and beverage satisfaction   \n",
            "2     5         Satisfied   food & beverage  food and beverage satisfaction   \n",
            "3     3      Dissatisfied   food & beverage  food and beverage satisfaction   \n",
            "4     5         Satisfied   food & beverage  food and beverage satisfaction   \n",
            "5     3      Dissatisfied   food & beverage  food and beverage satisfaction   \n",
            "6     5         Satisfied   food & beverage  food and beverage satisfaction   \n",
            "7     3      Dissatisfied   food & beverage  food and beverage satisfaction   \n",
            "8     1      Dissatisfied   food & beverage  food and beverage satisfaction   \n",
            "9     3      Dissatisfied   food & beverage  food and beverage satisfaction   \n",
            "\n",
            "   ...  ua_uax actual_flown_miles haul_type departure_gate arrival_gate  \\\n",
            "0  ...     UAX                 67     Short            C12          F10   \n",
            "1  ...     UAX                 72     Short              5          B60   \n",
            "2  ...     UAX                 72     Short              7          A71   \n",
            "3  ...     UAX                 72     Short            B82            5   \n",
            "4  ...      UA                 72     Short            B24            3   \n",
            "5  ...     UAX                 77     Short            A1E          NaN   \n",
            "6  ...     UAX                 81     Short           C115         D11R   \n",
            "7  ...     UAX                 89     Short            86B           5D   \n",
            "8  ...     UAX                113     Short              1          B54   \n",
            "9  ...     UAX                126     Short              3          B55   \n",
            "\n",
            "   international_domestic_indicator response_group media_provider  \\\n",
            "0                          Domestic     non-member            NaN   \n",
            "1                          Domestic         member           GOGO   \n",
            "2                          Domestic         member           GOGO   \n",
            "3                          Domestic         member            NaN   \n",
            "4                          Domestic         member      PANASONIC   \n",
            "5                          Domestic     non-member            NaN   \n",
            "6                          Domestic     non-member           GOGO   \n",
            "7                          Domestic         member           GOGO   \n",
            "8                          Domestic         member            NaN   \n",
            "9                          Domestic         member           GOGO   \n",
            "\n",
            "         hub_spoke     cabin  \n",
            "0  spoke departure   Economy  \n",
            "1  spoke departure  Business  \n",
            "2  spoke departure  Business  \n",
            "3    hub departure   Economy  \n",
            "4    hub departure  Business  \n",
            "5    hub departure   Economy  \n",
            "6    hub departure   Economy  \n",
            "7    hub departure  Business  \n",
            "8  spoke departure   Economy  \n",
            "9  spoke departure   Economy  \n",
            "\n",
            "[10 rows x 32 columns]\n"
          ]
        }
      ]
    },
    {
      "cell_type": "code",
      "source": [
        "print(df.shape[0])"
      ],
      "metadata": {
        "colab": {
          "base_uri": "https://localhost:8080/"
        },
        "id": "DFnKSYDktdL1",
        "outputId": "98bfc9fd-ff6f-4db2-9297-747a864dd136"
      },
      "execution_count": 31,
      "outputs": [
        {
          "output_type": "stream",
          "name": "stdout",
          "text": [
            "34963\n"
          ]
        }
      ]
    },
    {
      "cell_type": "code",
      "source": [
        "df.drop(['cabin_code_desc', 'cabin_name'], axis=1, inplace=True)"
      ],
      "metadata": {
        "id": "V2XWdS190-rk"
      },
      "execution_count": 34,
      "outputs": []
    },
    {
      "cell_type": "code",
      "source": [
        "media_pro_counts = df['media_provider'].value_counts()"
      ],
      "metadata": {
        "id": "L-FuLAMH2C0L"
      },
      "execution_count": 37,
      "outputs": []
    },
    {
      "cell_type": "code",
      "source": [
        "print(media_pro_counts)"
      ],
      "metadata": {
        "colab": {
          "base_uri": "https://localhost:8080/"
        },
        "id": "lhLGDrrt2JcW",
        "outputId": "23ad8ac3-9f7a-4bda-ddb7-d5b42915ce67"
      },
      "execution_count": 38,
      "outputs": [
        {
          "output_type": "stream",
          "name": "stdout",
          "text": [
            "PANASONIC    16615\n",
            "THALES       10160\n",
            "GOGO          3561\n",
            "VIASAT        3093\n",
            "Name: media_provider, dtype: int64\n"
          ]
        }
      ]
    },
    {
      "cell_type": "code",
      "source": [
        "blank_media_provider_count = df['media_provider'].isna().sum()\n",
        "print(blank_media_provider_count)"
      ],
      "metadata": {
        "colab": {
          "base_uri": "https://localhost:8080/"
        },
        "id": "0nmIDUBz2pXt",
        "outputId": "638f951d-d2b6-4574-b91d-b49d4973fe99"
      },
      "execution_count": 40,
      "outputs": [
        {
          "output_type": "stream",
          "name": "stdout",
          "text": [
            "1534\n"
          ]
        }
      ]
    },
    {
      "cell_type": "code",
      "source": [
        "df['media_provider'].fillna(\"Unknown\", inplace=True)"
      ],
      "metadata": {
        "id": "2limMeZ83OUb"
      },
      "execution_count": 41,
      "outputs": []
    },
    {
      "cell_type": "code",
      "source": [
        "csv_file_path = '/content/case/Survey data_Inflight Satisfaction Score.csv'\n",
        "df.to_csv(csv_file_path, index=False)"
      ],
      "metadata": {
        "id": "EAWghBj2wk49"
      },
      "execution_count": 42,
      "outputs": []
    },
    {
      "cell_type": "code",
      "source": [
        "from google.colab import files\n",
        "\n",
        "files.download(csv_file_path)"
      ],
      "metadata": {
        "colab": {
          "base_uri": "https://localhost:8080/",
          "height": 17
        },
        "id": "mMfJuhMwzTcM",
        "outputId": "7a98f706-d2eb-4384-eb96-62e3b897f931"
      },
      "execution_count": 43,
      "outputs": [
        {
          "output_type": "display_data",
          "data": {
            "text/plain": [
              "<IPython.core.display.Javascript object>"
            ],
            "application/javascript": [
              "\n",
              "    async function download(id, filename, size) {\n",
              "      if (!google.colab.kernel.accessAllowed) {\n",
              "        return;\n",
              "      }\n",
              "      const div = document.createElement('div');\n",
              "      const label = document.createElement('label');\n",
              "      label.textContent = `Downloading \"${filename}\": `;\n",
              "      div.appendChild(label);\n",
              "      const progress = document.createElement('progress');\n",
              "      progress.max = size;\n",
              "      div.appendChild(progress);\n",
              "      document.body.appendChild(div);\n",
              "\n",
              "      const buffers = [];\n",
              "      let downloaded = 0;\n",
              "\n",
              "      const channel = await google.colab.kernel.comms.open(id);\n",
              "      // Send a message to notify the kernel that we're ready.\n",
              "      channel.send({})\n",
              "\n",
              "      for await (const message of channel.messages) {\n",
              "        // Send a message to notify the kernel that we're ready.\n",
              "        channel.send({})\n",
              "        if (message.buffers) {\n",
              "          for (const buffer of message.buffers) {\n",
              "            buffers.push(buffer);\n",
              "            downloaded += buffer.byteLength;\n",
              "            progress.value = downloaded;\n",
              "          }\n",
              "        }\n",
              "      }\n",
              "      const blob = new Blob(buffers, {type: 'application/binary'});\n",
              "      const a = document.createElement('a');\n",
              "      a.href = window.URL.createObjectURL(blob);\n",
              "      a.download = filename;\n",
              "      div.appendChild(a);\n",
              "      a.click();\n",
              "      div.remove();\n",
              "    }\n",
              "  "
            ]
          },
          "metadata": {}
        },
        {
          "output_type": "display_data",
          "data": {
            "text/plain": [
              "<IPython.core.display.Javascript object>"
            ],
            "application/javascript": [
              "download(\"download_53d93601-16ec-411d-80a6-46481a806a58\", \"Survey data_Inflight Satisfaction Score.csv\", 11364761)"
            ]
          },
          "metadata": {}
        }
      ]
    }
  ]
}